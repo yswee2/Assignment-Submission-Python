{
  "nbformat": 4,
  "nbformat_minor": 0,
  "metadata": {
    "colab": {
      "name": "Day 1 Assignment",
      "provenance": [],
      "authorship_tag": "ABX9TyNG3cmjuI3oHRwzIIJ445KI",
      "include_colab_link": true
    },
    "kernelspec": {
      "name": "python3",
      "display_name": "Python 3"
    },
    "language_info": {
      "name": "python"
    }
  },
  "cells": [
    {
      "cell_type": "markdown",
      "metadata": {
        "id": "view-in-github",
        "colab_type": "text"
      },
      "source": [
        "<a href=\"https://colab.research.google.com/github/yswee2/Assignment-Submission-Python/blob/main/Day_1_Assignment.ipynb\" target=\"_parent\"><img src=\"https://colab.research.google.com/assets/colab-badge.svg\" alt=\"Open In Colab\"/></a>"
      ]
    },
    {
      "cell_type": "code",
      "metadata": {
        "colab": {
          "base_uri": "https://localhost:8080/"
        },
        "id": "HIsRNIaJ5SuQ",
        "outputId": "6532e107-94f2-42e5-a381-5faf9922691a"
      },
      "source": [
        "# Assignment - Take two inputs and store in variable x and y, find x to the power y.\n",
        "\n",
        "\n",
        "x = 25\n",
        "y = 4\n",
        "\n",
        "print(x**y)"
      ],
      "execution_count": 2,
      "outputs": [
        {
          "output_type": "stream",
          "text": [
            "390625\n"
          ],
          "name": "stdout"
        }
      ]
    },
    {
      "cell_type": "code",
      "metadata": {
        "id": "K2FHnGuE5cn8"
      },
      "source": [
        ""
      ],
      "execution_count": null,
      "outputs": []
    }
  ]
}